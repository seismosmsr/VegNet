{
  "cells": [
    {
      "cell_type": "code",
      "source": "# !pip install geopandas --upgrade",
      "metadata": {
        "tags": [],
        "cell_id": "70a4d3b1923d483f9c95bdd097d323da",
        "source_hash": "64674296",
        "output_cleared": true,
        "execution_start": 1675444917503,
        "execution_millis": 2217143609,
        "deepnote_to_be_reexecuted": false,
        "deepnote_cell_type": "code"
      },
      "outputs": [],
      "execution_count": 1
    },
    {
      "cell_type": "code",
      "source": "import requests\nimport geojson\nimport folium\nimport geopandas\nimport psycopg2\nimport psycopg2.extras\nimport numpy as np\nimport itertools\nimport pandas as pd\nimport rasterio\nimport rasterio.mask\nimport gdal\n# import rasterstats\n\nfrom scipy.stats import pareto\nfrom shapely.ops import cascaded_union\nfrom sqlalchemy import create_engine\nfrom rasterstats import zonal_stats\nfrom shapely import wkt",
      "metadata": {
        "tags": [],
        "cell_id": "7d7cbbd0094e4ac88d8e4d1b637cf247",
        "source_hash": "16876492",
        "output_cleared": true,
        "execution_start": 1675444917503,
        "execution_millis": 1838,
        "deepnote_to_be_reexecuted": false,
        "deepnote_cell_type": "code"
      },
      "outputs": [],
      "execution_count": 2
    },
    {
      "cell_type": "code",
      "source": "## Set up access controlls\n#Todo: should this be some kind of 'secret' or be stored in a secrets thing?\n#Todo: check database to see if a parcel has been queried recently or if we have current enough data\n# and returned that analysis instead of buying another parcel and analyisin\ndb_cred = {'user': 'jifesypi',\n            'password': 'Qxds23zjkpIIU343-GGHNlxqFdD3Pdlr',\n            'host': 'mild-williams-pear.db.elephantsql.com',\n            'port': '5432', \n            'database': 'jifesypi',\n            'epsg': '4326',\n            'schema':'schema'\n            }",
      "metadata": {
        "tags": [],
        "cell_id": "765a8b1978244ae682b3ddbc6a6f3af8",
        "source_hash": "8c5f82c9",
        "output_cleared": true,
        "execution_start": 1675444919344,
        "execution_millis": 1,
        "deepnote_to_be_reexecuted": false,
        "deepnote_cell_type": "code"
      },
      "outputs": [],
      "execution_count": 3
    },
    {
      "cell_type": "code",
      "source": "sonoma_parcel_dataframe = geopandas.read_file('/work/sonoma.gpkg')",
      "metadata": {
        "tags": [],
        "cell_id": "67866f6bd0f64299af593be8a38caa6a",
        "source_hash": "c7db29cd",
        "output_cleared": true,
        "execution_start": 1675444919389,
        "execution_millis": 12654,
        "deepnote_to_be_reexecuted": false,
        "deepnote_cell_type": "code"
      },
      "outputs": [],
      "execution_count": 4
    },
    {
      "cell_type": "code",
      "source": "parcel_dataframe= sonoma_parcel_dataframe.iloc[[0]]",
      "metadata": {
        "tags": [],
        "cell_id": "e3a4f9258d48463f8d26a60f064b6a62",
        "source_hash": "e4b8ad7d",
        "output_cleared": true,
        "execution_start": 1675444932083,
        "execution_millis": 2,
        "deepnote_to_be_reexecuted": false,
        "deepnote_cell_type": "code"
      },
      "outputs": [],
      "execution_count": 5
    },
    {
      "cell_type": "code",
      "source": "# Query postgres database based on parcel geometry\n#Set query EPSG (WSG 4326)\nparcel_dataframe = parcel_dataframe.set_crs('EPSG:4326')\n\n#Convert to 26910, stateplane & meters\nparcel_dataframe_26910 = parcel_dataframe.to_crs(26910)\n\n#Buffer parcel 1000 meters\nbuffer_parcel_dataframe_26910 = parcel_dataframe_26910.buffer(1000).to_crs(4326)\n\n#Extract well known text\nparcel_geometry_wkt = buffer_parcel_dataframe_26910.geometry.to_wkt().to_list()[0]\n\n#Create connection to the database\nengine = create_engine(f\"postgresql://{db_cred['user']}:{db_cred['password']}@{db_cred['host']}:{db_cred['port']}/{db_cred['database']}\")\n\n#Query for neighborhood of parcels\nsql_query_parcels = f\"SELECT * FROM public.california_parcels WHERE ST_INTERSECTS(geom, ST_BUFFER('SRID=4326;{parcel_geometry_wkt}', 0))\"\n\n#Send to engine\nneighborhood_parcels = geopandas.read_postgis(sql_query_parcels, engine)\n\n#Need to union to send to wkt query\n# neighborhood_parcels_union = geopandas.GeoSeries(unary_union(neighborhood_parcels.geometry.values))\nneighborhood_parcels_union = neighborhood_parcels.unary_union\n\n#Get wkt of neighborhood of parcels\nneighborhood_geometry_wkt = neighborhood_parcels_union.wkt\n\n#Query for extended neighborhood (1000m) of structures\nsql_query_parcels = f\"SELECT * FROM public.california_structures WHERE ST_INTERSECTS(geom, ST_BUFFER('SRID=4326;{neighborhood_geometry_wkt}',0))\"\n\nneighborhood_structures = geopandas.read_postgis(sql_query_parcels, engine)\n\n#Query for parcel structures\nsql_query_structures = f\"SELECT * FROM public.california_structures WHERE ST_INTERSECTS(geom, ST_BUFFER('SRID=4326;{parcel_geometry_wkt}',0))\"\n\nparcel_structures = geopandas.read_postgis(sql_query_structures, engine)",
      "metadata": {
        "tags": [],
        "cell_id": "1ef55b8f05f046babceddb1f35c220db",
        "source_hash": "9af9e568",
        "output_cleared": true,
        "execution_start": 1675444932126,
        "execution_millis": 2376,
        "deepnote_to_be_reexecuted": false,
        "deepnote_cell_type": "code"
      },
      "outputs": [],
      "execution_count": 6
    },
    {
      "cell_type": "code",
      "source": "vegetation_dt = geopandas.read_file('/work/veg_source_dt.csv')\nstructure_dt = geopandas.read_file('/work/str_source_dt.csv')\nassembly_dt = geopandas.read_file('/work/asm_source_dt.csv')",
      "metadata": {
        "tags": [],
        "cell_id": "88b8ffa8e4944d7795e6a46dfd2c2607",
        "source_hash": "f15d313f",
        "output_cleared": true,
        "execution_start": 1675444934519,
        "execution_millis": 1123,
        "deepnote_to_be_reexecuted": false,
        "deepnote_cell_type": "code"
      },
      "outputs": [],
      "execution_count": 7
    },
    {
      "cell_type": "code",
      "source": "veg_pareto_dt = pd.DataFrame(columns=['Wind_Speed', 'Subs','vec_len', 'b','loc','scale'])\nfor j, k in itertools.product(['Idle','Medium','High'],['Grass','Shrub','Tree']):\n    pareto_vec = vegetation_dt[(vegetation_dt['Vegetation Type']==k) & (vegetation_dt['Wind Speed'] ==j)]['Total Flying Distance  [m]'].values\n    pareto_vec = [float(i) for i in pareto_vec]\n    b_samp, loc_samp, scale_samp = pareto.fit(pareto_vec)\n    n_emb = len(pareto_vec)\n    out_dt =[j,k,n_emb,b_samp,loc_samp,scale_samp]\n    # veg_pareto_dt = veg_pareto_dt.append(out_dt)\n    veg_pareto_dt = veg_pareto_dt.append(\n        pd.DataFrame(\n            # index=(veg_pareto_dt.index.max()+1,),\n            columns=veg_pareto_dt.columns,\n            data=(out_dt,),\n        )\n    )\n\n# print(vegetation_dt)\nstr_pareto_dt = pd.DataFrame(columns=['Wind_Speed','Assembly','Material','vec_len', 'b','loc','scale'])\n\nstr_simple_dt = structure_dt[['Wind Speed','Assembly','Material']].drop_duplicates()\n\nfor i in range(len(str_simple_dt)):\n    samp_dt = str_simple_dt.iloc[[i]]\n    j=samp_dt['Wind Speed'].values[0]\n    k=samp_dt['Assembly'].values[0]\n    l=samp_dt['Material'].values[0]\n    # print([j,k,l])\n    pareto_dt = structure_dt[(structure_dt['Wind Speed']==j) &(structure_dt['Assembly']==k) & (structure_dt['Material']==l)]\n    pareto_vec = pareto_dt['Total Flying Distance  [m]'].values\n    pareto_vec = [float(m) for m in pareto_vec]\n    n_emb = len(pareto_vec)\n    b_samp, loc_samp, scale_samp = pareto.fit(pareto_vec)\n    out_dt =[j,k,l,n_emb,b_samp,loc_samp,scale_samp]\n    # veg_pareto_dt = veg_pareto_dt.append(out_dt)\n    str_pareto_dt = str_pareto_dt.append(\n            pd.DataFrame(\n                # index=(veg_pareto_dt.index.max()+1,),\n                columns=str_pareto_dt.columns,\n                data=(out_dt,),\n            )\n        )\n\nasm_pareto_dt = pd.DataFrame(columns=['Wind_Speed','Cladding','Wall Type','Material','Roof (Sheathing)','vec_len', 'b','loc','scale'])\n\nasm_simple_dt = assembly_dt[['Wind Speed','Cladding','Wall Type','Material','Roof (Sheathing)']].drop_duplicates()\n\nfor i in range(len(str_simple_dt)):\n    samp_dt = asm_simple_dt.iloc[[i]]\n    j=samp_dt['Wind Speed'].values[0]\n    k=samp_dt['Cladding'].values[0]\n    l=samp_dt['Wall Type'].values[0]\n    m=samp_dt['Material'].values[0]\n    n=samp_dt['Roof (Sheathing)'].values[0]\n    # print([j,k,l])\n    pareto_dt = assembly_dt[(assembly_dt['Wind Speed']==j) &(assembly_dt['Cladding']==k) & (assembly_dt['Wall Type']==l)& (assembly_dt['Material']==m)& (assembly_dt['Roof (Sheathing)']==n)]\n    pareto_vec = pareto_dt['Total Flying Distance  [m]'].values\n    # print(pareto_vec)\n    pareto_vec = [float(o) for o in pareto_vec]\n\n    b_samp, loc_samp, scale_samp = pareto.fit(pareto_vec)\n    n_emb = len(pareto_vec)\n    out_dt =[j,k,l,m,n,n_emb,b_samp,loc_samp,scale_samp]\n    # veg_pareto_dt = veg_pareto_dt.append(out_dt)\n    asm_pareto_dt = asm_pareto_dt.append(\n            pd.DataFrame(\n                # index=(veg_pareto_dt.index.max()+1,),\n                columns=asm_pareto_dt.columns,\n                data=(out_dt,),\n            )\n        )",
      "metadata": {
        "tags": [],
        "cell_id": "d019e4306d9b44f0b5c806f1079a7293",
        "source_hash": "4ab284e7",
        "output_cleared": false,
        "execution_start": 1675444935677,
        "execution_millis": 3214,
        "deepnote_to_be_reexecuted": false,
        "deepnote_cell_type": "code"
      },
      "outputs": [
        {
          "name": "stderr",
          "text": "/shared-libs/python3.7/py/lib/python3.7/site-packages/scipy/stats/_distn_infrastructure.py:2606: RuntimeWarning: invalid value encountered in double_scalars\n  Lhat = muhat - Shat*mu\n/shared-libs/python3.7/py/lib/python3.7/site-packages/scipy/stats/_distn_infrastructure.py:2606: RuntimeWarning: invalid value encountered in double_scalars\n  Lhat = muhat - Shat*mu\n/shared-libs/python3.7/py/lib/python3.7/site-packages/scipy/stats/_distn_infrastructure.py:2606: RuntimeWarning: invalid value encountered in double_scalars\n  Lhat = muhat - Shat*mu\n/shared-libs/python3.7/py/lib/python3.7/site-packages/scipy/stats/_distn_infrastructure.py:2606: RuntimeWarning: invalid value encountered in double_scalars\n  Lhat = muhat - Shat*mu\n/shared-libs/python3.7/py/lib/python3.7/site-packages/scipy/stats/_distn_infrastructure.py:2606: RuntimeWarning: invalid value encountered in double_scalars\n  Lhat = muhat - Shat*mu\n/shared-libs/python3.7/py/lib/python3.7/site-packages/scipy/stats/_distn_infrastructure.py:2606: RuntimeWarning: invalid value encountered in double_scalars\n  Lhat = muhat - Shat*mu\n/shared-libs/python3.7/py/lib/python3.7/site-packages/scipy/stats/_distn_infrastructure.py:2606: RuntimeWarning: invalid value encountered in double_scalars\n  Lhat = muhat - Shat*mu\n/shared-libs/python3.7/py/lib/python3.7/site-packages/scipy/stats/_distn_infrastructure.py:2606: RuntimeWarning: invalid value encountered in double_scalars\n  Lhat = muhat - Shat*mu\n/shared-libs/python3.7/py/lib/python3.7/site-packages/scipy/stats/_distn_infrastructure.py:2606: RuntimeWarning: invalid value encountered in double_scalars\n  Lhat = muhat - Shat*mu\n/shared-libs/python3.7/py/lib/python3.7/site-packages/scipy/stats/_distn_infrastructure.py:2606: RuntimeWarning: invalid value encountered in double_scalars\n  Lhat = muhat - Shat*mu\n/shared-libs/python3.7/py/lib/python3.7/site-packages/scipy/stats/_distn_infrastructure.py:2606: RuntimeWarning: invalid value encountered in double_scalars\n  Lhat = muhat - Shat*mu\n/shared-libs/python3.7/py/lib/python3.7/site-packages/scipy/stats/_distn_infrastructure.py:2606: RuntimeWarning: invalid value encountered in double_scalars\n  Lhat = muhat - Shat*mu\n/shared-libs/python3.7/py/lib/python3.7/site-packages/scipy/stats/_distn_infrastructure.py:2606: RuntimeWarning: invalid value encountered in double_scalars\n  Lhat = muhat - Shat*mu\n/shared-libs/python3.7/py/lib/python3.7/site-packages/scipy/stats/_distn_infrastructure.py:2606: RuntimeWarning: invalid value encountered in double_scalars\n  Lhat = muhat - Shat*mu\n/shared-libs/python3.7/py/lib/python3.7/site-packages/scipy/stats/_distn_infrastructure.py:2606: RuntimeWarning: invalid value encountered in double_scalars\n  Lhat = muhat - Shat*mu\n/shared-libs/python3.7/py/lib/python3.7/site-packages/scipy/stats/_distn_infrastructure.py:2606: RuntimeWarning: invalid value encountered in double_scalars\n  Lhat = muhat - Shat*mu\n/shared-libs/python3.7/py/lib/python3.7/site-packages/scipy/stats/_distn_infrastructure.py:2606: RuntimeWarning: invalid value encountered in double_scalars\n  Lhat = muhat - Shat*mu\n/shared-libs/python3.7/py/lib/python3.7/site-packages/scipy/stats/_distn_infrastructure.py:2606: RuntimeWarning: invalid value encountered in double_scalars\n  Lhat = muhat - Shat*mu\n/shared-libs/python3.7/py/lib/python3.7/site-packages/scipy/stats/_distn_infrastructure.py:2606: RuntimeWarning: invalid value encountered in double_scalars\n  Lhat = muhat - Shat*mu\n/shared-libs/python3.7/py/lib/python3.7/site-packages/scipy/stats/_distn_infrastructure.py:2606: RuntimeWarning: invalid value encountered in double_scalars\n  Lhat = muhat - Shat*mu\n/shared-libs/python3.7/py/lib/python3.7/site-packages/scipy/stats/_distn_infrastructure.py:2606: RuntimeWarning: invalid value encountered in double_scalars\n  Lhat = muhat - Shat*mu\n/shared-libs/python3.7/py/lib/python3.7/site-packages/scipy/stats/_distn_infrastructure.py:2606: RuntimeWarning: invalid value encountered in double_scalars\n  Lhat = muhat - Shat*mu\n/shared-libs/python3.7/py/lib/python3.7/site-packages/scipy/stats/_distn_infrastructure.py:2606: RuntimeWarning: invalid value encountered in double_scalars\n  Lhat = muhat - Shat*mu\n/shared-libs/python3.7/py/lib/python3.7/site-packages/scipy/stats/_distn_infrastructure.py:2606: RuntimeWarning: invalid value encountered in double_scalars\n  Lhat = muhat - Shat*mu\n/shared-libs/python3.7/py/lib/python3.7/site-packages/scipy/stats/_distn_infrastructure.py:2606: RuntimeWarning: invalid value encountered in double_scalars\n  Lhat = muhat - Shat*mu\n/shared-libs/python3.7/py/lib/python3.7/site-packages/scipy/stats/_distn_infrastructure.py:2606: RuntimeWarning: invalid value encountered in double_scalars\n  Lhat = muhat - Shat*mu\n/shared-libs/python3.7/py/lib/python3.7/site-packages/scipy/stats/_distn_infrastructure.py:2606: RuntimeWarning: invalid value encountered in double_scalars\n  Lhat = muhat - Shat*mu\n/shared-libs/python3.7/py/lib/python3.7/site-packages/scipy/stats/_distn_infrastructure.py:2606: RuntimeWarning: invalid value encountered in double_scalars\n  Lhat = muhat - Shat*mu\n/shared-libs/python3.7/py/lib/python3.7/site-packages/scipy/stats/_distn_infrastructure.py:2606: RuntimeWarning: invalid value encountered in double_scalars\n  Lhat = muhat - Shat*mu\n/shared-libs/python3.7/py/lib/python3.7/site-packages/scipy/stats/_distn_infrastructure.py:2606: RuntimeWarning: invalid value encountered in double_scalars\n  Lhat = muhat - Shat*mu\n/shared-libs/python3.7/py/lib/python3.7/site-packages/scipy/stats/_distn_infrastructure.py:2606: RuntimeWarning: invalid value encountered in double_scalars\n  Lhat = muhat - Shat*mu\n/shared-libs/python3.7/py/lib/python3.7/site-packages/scipy/stats/_distn_infrastructure.py:2606: RuntimeWarning: invalid value encountered in double_scalars\n  Lhat = muhat - Shat*mu\n/shared-libs/python3.7/py/lib/python3.7/site-packages/scipy/stats/_distn_infrastructure.py:2606: RuntimeWarning: invalid value encountered in double_scalars\n  Lhat = muhat - Shat*mu\n/shared-libs/python3.7/py/lib/python3.7/site-packages/scipy/stats/_distn_infrastructure.py:2606: RuntimeWarning: invalid value encountered in double_scalars\n  Lhat = muhat - Shat*mu\n/shared-libs/python3.7/py/lib/python3.7/site-packages/scipy/stats/_distn_infrastructure.py:2606: RuntimeWarning: invalid value encountered in double_scalars\n  Lhat = muhat - Shat*mu\n/shared-libs/python3.7/py/lib/python3.7/site-packages/scipy/stats/_distn_infrastructure.py:2606: RuntimeWarning: invalid value encountered in double_scalars\n  Lhat = muhat - Shat*mu\n/shared-libs/python3.7/py/lib/python3.7/site-packages/scipy/stats/_distn_infrastructure.py:2606: RuntimeWarning: invalid value encountered in double_scalars\n  Lhat = muhat - Shat*mu\n/shared-libs/python3.7/py/lib/python3.7/site-packages/scipy/stats/_distn_infrastructure.py:2606: RuntimeWarning: invalid value encountered in double_scalars\n  Lhat = muhat - Shat*mu\n/shared-libs/python3.7/py/lib/python3.7/site-packages/scipy/stats/_distn_infrastructure.py:2606: RuntimeWarning: invalid value encountered in double_scalars\n  Lhat = muhat - Shat*mu\n/shared-libs/python3.7/py/lib/python3.7/site-packages/scipy/stats/_distn_infrastructure.py:2606: RuntimeWarning: invalid value encountered in double_scalars\n  Lhat = muhat - Shat*mu\n/shared-libs/python3.7/py/lib/python3.7/site-packages/scipy/stats/_distn_infrastructure.py:2606: RuntimeWarning: invalid value encountered in double_scalars\n  Lhat = muhat - Shat*mu\n/shared-libs/python3.7/py/lib/python3.7/site-packages/scipy/stats/_distn_infrastructure.py:2606: RuntimeWarning: invalid value encountered in double_scalars\n  Lhat = muhat - Shat*mu\n/shared-libs/python3.7/py/lib/python3.7/site-packages/scipy/stats/_distn_infrastructure.py:2606: RuntimeWarning: invalid value encountered in double_scalars\n  Lhat = muhat - Shat*mu\n/shared-libs/python3.7/py/lib/python3.7/site-packages/scipy/stats/_distn_infrastructure.py:2606: RuntimeWarning: invalid value encountered in double_scalars\n  Lhat = muhat - Shat*mu\n/shared-libs/python3.7/py/lib/python3.7/site-packages/scipy/stats/_distn_infrastructure.py:2606: RuntimeWarning: invalid value encountered in double_scalars\n  Lhat = muhat - Shat*mu\n/shared-libs/python3.7/py/lib/python3.7/site-packages/scipy/stats/_distn_infrastructure.py:2606: RuntimeWarning: invalid value encountered in double_scalars\n  Lhat = muhat - Shat*mu\n/shared-libs/python3.7/py/lib/python3.7/site-packages/scipy/stats/_distn_infrastructure.py:2606: RuntimeWarning: invalid value encountered in double_scalars\n  Lhat = muhat - Shat*mu\n/shared-libs/python3.7/py/lib/python3.7/site-packages/scipy/stats/_distn_infrastructure.py:2606: RuntimeWarning: invalid value encountered in double_scalars\n  Lhat = muhat - Shat*mu\n/shared-libs/python3.7/py/lib/python3.7/site-packages/scipy/stats/_distn_infrastructure.py:2606: RuntimeWarning: invalid value encountered in double_scalars\n  Lhat = muhat - Shat*mu\n/shared-libs/python3.7/py/lib/python3.7/site-packages/scipy/stats/_distn_infrastructure.py:2606: RuntimeWarning: invalid value encountered in double_scalars\n  Lhat = muhat - Shat*mu\n/shared-libs/python3.7/py/lib/python3.7/site-packages/scipy/stats/_distn_infrastructure.py:2606: RuntimeWarning: invalid value encountered in double_scalars\n  Lhat = muhat - Shat*mu\n/shared-libs/python3.7/py/lib/python3.7/site-packages/scipy/stats/_distn_infrastructure.py:2606: RuntimeWarning: invalid value encountered in double_scalars\n  Lhat = muhat - Shat*mu\n/shared-libs/python3.7/py/lib/python3.7/site-packages/scipy/stats/_distn_infrastructure.py:2606: RuntimeWarning: invalid value encountered in double_scalars\n  Lhat = muhat - Shat*mu\n",
          "output_type": "stream"
        }
      ],
      "execution_count": 8
    },
    {
      "cell_type": "code",
      "source": "with rasterio.open(\"/work/Stack_Sonoma_2021_classification.tif\") as src:\n    class_out_image, class_out_transform = rasterio.mask.mask(src, parcel_dataframe.geometry, crop=True)\n    class_out_meta = src.meta\n\nclass_out_meta.update({\"driver\": \"GTiff\",\n                 \"height\": class_out_image.shape[1],\n                 \"width\": class_out_image.shape[2],\n                 \"transform\": class_out_transform})\n\nwith rasterio.open(\"/work/processing_folder/parcel_class.tif\", \"w\", **class_out_meta) as dest:\n    dest.write(class_out_image)\n\n\nwith rasterio.open(\"/work/Stack_Sonoma_2021_biomass.tif\") as src:\n    biomass_out_image, biomass_out_transform = rasterio.mask.mask(src, parcel_dataframe.geometry, crop=True)\n    biomass_out_meta = src.meta\n\nbiomass_out_meta.update({\"driver\": \"GTiff\",\n                 \"height\": biomass_out_image.shape[1],\n                 \"width\": biomass_out_image.shape[2],\n                 \"transform\": biomass_out_transform})\n\nwith rasterio.open(\"/work/processing_folder/parcel_biomass.tif\", \"w\", **biomass_out_meta) as dest:\n    dest.write(biomass_out_image)",
      "metadata": {
        "tags": [],
        "cell_id": "080dd7c8868d4059a30c03024fb7eecf",
        "source_hash": "55fb3f20",
        "output_cleared": true,
        "execution_start": 1675444938875,
        "execution_millis": 65,
        "deepnote_to_be_reexecuted": false,
        "deepnote_cell_type": "code"
      },
      "outputs": [],
      "execution_count": 9
    },
    {
      "cell_type": "code",
      "source": "# pareto.rvs(size = 1000000,b=veg_pareto_dt.iloc[[0]][['b']],loc=veg_pareto_dt.iloc[[0]][['loc']],scale=veg_pareto_dt.iloc[[0]][['scale']])",
      "metadata": {
        "tags": [],
        "cell_id": "082c6aefb93b4e0faeff4fd470d411b3",
        "source_hash": "a5d8f336",
        "output_cleared": true,
        "execution_start": 1675444938943,
        "execution_millis": 1,
        "deepnote_to_be_reexecuted": false,
        "deepnote_cell_type": "code"
      },
      "outputs": [],
      "execution_count": 10
    },
    {
      "cell_type": "code",
      "source": "from osgeo import gdal, ogr, osr\n\nin_path = '/work/processing_folder/parcel_class.tif'\n\nout_path = '/work/processing_folder/parcel_class.gpkg'\n\n#  get raster datasource\nsrc_ds = gdal.Open( in_path )\n#\nsrcband = src_ds.GetRasterBand(1)\ndst_layername = 'Class'\ndrv = ogr.GetDriverByName(\"GPKG\")\ndst_ds = drv.CreateDataSource( out_path )\n\nsp_ref = osr.SpatialReference()\nsp_ref.SetFromUserInput('EPSG:4326')\n\ndst_layer = dst_ds.CreateLayer(dst_layername, srs = sp_ref )\n\nfld = ogr.FieldDefn(\"Class\", ogr.OFTInteger)\ndst_layer.CreateField(fld)\ndst_field = dst_layer.GetLayerDefn().GetFieldIndex(\"Class\")\n\ngdal.Polygonize( srcband, None, dst_layer, dst_field, [], callback=None )\n\ndel src_ds\ndel dst_ds",
      "metadata": {
        "tags": [],
        "cell_id": "05a115fc37d04bafba9a96f41e760373",
        "source_hash": "34de91fb",
        "output_cleared": true,
        "execution_start": 1675444938949,
        "execution_millis": 220,
        "deepnote_to_be_reexecuted": false,
        "deepnote_cell_type": "code"
      },
      "outputs": [],
      "execution_count": 11
    },
    {
      "cell_type": "code",
      "source": "vegetation_dataframe = geopandas.read_file('/work/processing_folder/parcel_class.gpkg')",
      "metadata": {
        "tags": [],
        "cell_id": "2fff303e4f3b4f39b4ca78f5065e9df2",
        "source_hash": "1fc48885",
        "output_cleared": true,
        "execution_start": 1675444939277,
        "execution_millis": 3,
        "deepnote_to_be_reexecuted": false,
        "deepnote_cell_type": "code"
      },
      "outputs": [],
      "execution_count": 12
    },
    {
      "cell_type": "code",
      "source": "vegetation_dataframe[['Class_str']] =  vegetation_dataframe[['Class']].values\nd = { 0 : 'Grass' , 4 : 'Grass', 2 : 'Grass', 7 : 'Grass', 5 : 'Shrub', 11 : 'Shrub', 13 : 'Shrub', 14 : 'Shrub',     1 : 'Tree', 3 : 'Tree', 6 : 'Tree', 8 : 'Tree',9 : 'Tree', 10 : 'Tree', 12 : 'Tree',15 : 'Water'}\nvegetation_dataframe.Class_str = vegetation_dataframe.Class_str.map(d)",
      "metadata": {
        "tags": [],
        "cell_id": "7fd39d11c4074d03a0c15ccd92b8408d",
        "source_hash": "13340e0d",
        "output_cleared": true,
        "execution_start": 1675444939293,
        "execution_millis": 1,
        "deepnote_to_be_reexecuted": false,
        "deepnote_cell_type": "code"
      },
      "outputs": [],
      "execution_count": 13
    },
    {
      "cell_type": "code",
      "source": "vegetation_dataframe['biomass'] = zonal_stats(vegetation_dataframe, \n                             '/work/processing_folder/parcel_biomass.tif', \n                             stats=\"mean\", # any other stat will also do\n                             categorical=False,\n                             nodata = np.nan)\nvegetation_dataframe['biomass'] = [i['mean'] for i in vegetation_dataframe['biomass']]",
      "metadata": {
        "tags": [],
        "cell_id": "b7f8b35034b54ed6a304e21ed11b0e90",
        "source_hash": "9db5dad1",
        "output_cleared": true,
        "execution_start": 1675444939297,
        "execution_millis": 22,
        "deepnote_to_be_reexecuted": false,
        "deepnote_cell_type": "code"
      },
      "outputs": [],
      "execution_count": 14
    },
    {
      "cell_type": "code",
      "source": "vegetation_dataframe['area'] = vegetation_dataframe.to_crs(6414).area/10000\nvegetation_dataframe['MG'] = vegetation_dataframe['area']*vegetation_dataframe['biomass']\n# vegetation_dataframe['embers'] = ",
      "metadata": {
        "tags": [],
        "cell_id": "4a4514d898c4491a9faafcf18282ab82",
        "source_hash": "8b9d9eab",
        "output_cleared": true,
        "execution_start": 1675444939517,
        "execution_millis": 11,
        "deepnote_to_be_reexecuted": false,
        "deepnote_cell_type": "code"
      },
      "outputs": [],
      "execution_count": 15
    },
    {
      "cell_type": "code",
      "source": "print(vegetation_dataframe.iloc[[1]])",
      "metadata": {
        "tags": [],
        "cell_id": "21ead8b3ea884797a82f4a0a6dada7fb",
        "source_hash": "767c2fee",
        "output_cleared": false,
        "execution_start": 1675444939530,
        "execution_millis": 16,
        "deepnote_to_be_reexecuted": false,
        "deepnote_cell_type": "code"
      },
      "outputs": [
        {
          "name": "stdout",
          "text": "   Class                                           geometry Class_str  \\\n1      4  POLYGON ((-122.60764 38.24263, -122.60764 38.2...     Grass   \n\n     biomass      area       MG  \n1  13.571429  0.054891  0.74495  \n",
          "output_type": "stream"
        }
      ],
      "execution_count": 16
    },
    {
      "cell_type": "code",
      "source": "vegetation_dataframe['embers'] = 0\n# print(veg_pareto_dt[veg_pareto_dt.Wind_Speed == 'High'].Subs.values)\nfor i in veg_pareto_dt[veg_pareto_dt.Wind_Speed == 'High'].Subs.values:\n    # print(vegetation_dataframe[vegetation_dataframe.Class_str == i])\n    # ['embers'] = \n    vegetation_dataframe.loc[vegetation_dataframe.Class_str == i].('embers',vegetation_dataframe[vegetation_dataframe.Class_str == i]['MG']*veg_pareto_dt[(veg_pareto_dt.Subs == i ) &(veg_pareto_dt.Wind_Speed == 'High')].vec_len[0]*1000/5)\n\n\n\n",
      "metadata": {
        "tags": [],
        "cell_id": "c37f659a5bf14372846de1597afda3cb",
        "source_hash": "825efcb9",
        "output_cleared": false,
        "execution_start": 1675444939543,
        "execution_millis": 202,
        "deepnote_to_be_reexecuted": false,
        "deepnote_cell_type": "code"
      },
      "outputs": [
        {
          "output_type": "error",
          "ename": "SyntaxError",
          "evalue": "invalid syntax (4145832032.py, line 6)",
          "traceback": [
            "\u001b[0;36m  File \u001b[0;32m\"/tmp/ipykernel_684/4145832032.py\"\u001b[0;36m, line \u001b[0;32m6\u001b[0m\n\u001b[0;31m    vegetation_dataframe.loc[vegetation_dataframe.Class_str == i].('embers',vegetation_dataframe[vegetation_dataframe.Class_str == i]['MG']*veg_pareto_dt[(veg_pareto_dt.Subs == i ) &(veg_pareto_dt.Wind_Speed == 'High')].vec_len[0]*1000/5)\u001b[0m\n\u001b[0m                                                                  ^\u001b[0m\n\u001b[0;31mSyntaxError\u001b[0m\u001b[0;31m:\u001b[0m invalid syntax\n"
          ]
        }
      ],
      "execution_count": 17
    },
    {
      "cell_type": "code",
      "source": "vegetation_dataframe",
      "metadata": {
        "tags": [],
        "cell_id": "f1040271e32347a0b691a6e50117ccdb",
        "source_hash": "e5b5677f",
        "output_cleared": true,
        "execution_start": 1673233414892,
        "execution_millis": 28,
        "deepnote_to_be_reexecuted": true,
        "deepnote_cell_type": "code"
      },
      "outputs": [],
      "execution_count": 77
    },
    {
      "cell_type": "markdown",
      "source": "<a style='text-decoration:none;line-height:16px;display:flex;color:#5B5B62;padding:10px;justify-content:end;' href='https://deepnote.com?utm_source=created-in-deepnote-cell&projectId=5eceab32-5823-49b2-9c95-72828e51fba3' target=\"_blank\">\n<img alt='Created in deepnote.com' style='display:inline;max-height:16px;margin:0px;margin-right:7.5px;' src='data:image/svg+xml;base64,PD94bWwgdmVyc2lvbj0iMS4wIiBlbmNvZGluZz0iVVRGLTgiPz4KPHN2ZyB3aWR0aD0iODBweCIgaGVpZ2h0PSI4MHB4IiB2aWV3Qm94PSIwIDAgODAgODAiIHZlcnNpb249IjEuMSIgeG1sbnM9Imh0dHA6Ly93d3cudzMub3JnLzIwMDAvc3ZnIiB4bWxuczp4bGluaz0iaHR0cDovL3d3dy53My5vcmcvMTk5OS94bGluayI+CiAgICA8IS0tIEdlbmVyYXRvcjogU2tldGNoIDU0LjEgKDc2NDkwKSAtIGh0dHBzOi8vc2tldGNoYXBwLmNvbSAtLT4KICAgIDx0aXRsZT5Hcm91cCAzPC90aXRsZT4KICAgIDxkZXNjPkNyZWF0ZWQgd2l0aCBTa2V0Y2guPC9kZXNjPgogICAgPGcgaWQ9IkxhbmRpbmciIHN0cm9rZT0ibm9uZSIgc3Ryb2tlLXdpZHRoPSIxIiBmaWxsPSJub25lIiBmaWxsLXJ1bGU9ImV2ZW5vZGQiPgogICAgICAgIDxnIGlkPSJBcnRib2FyZCIgdHJhbnNmb3JtPSJ0cmFuc2xhdGUoLTEyMzUuMDAwMDAwLCAtNzkuMDAwMDAwKSI+CiAgICAgICAgICAgIDxnIGlkPSJHcm91cC0zIiB0cmFuc2Zvcm09InRyYW5zbGF0ZSgxMjM1LjAwMDAwMCwgNzkuMDAwMDAwKSI+CiAgICAgICAgICAgICAgICA8cG9seWdvbiBpZD0iUGF0aC0yMCIgZmlsbD0iIzAyNjVCNCIgcG9pbnRzPSIyLjM3NjIzNzYyIDgwIDM4LjA0NzY2NjcgODAgNTcuODIxNzgyMiA3My44MDU3NTkyIDU3LjgyMTc4MjIgMzIuNzU5MjczOSAzOS4xNDAyMjc4IDMxLjY4MzE2ODMiPjwvcG9seWdvbj4KICAgICAgICAgICAgICAgIDxwYXRoIGQ9Ik0zNS4wMDc3MTgsODAgQzQyLjkwNjIwMDcsNzYuNDU0OTM1OCA0Ny41NjQ5MTY3LDcxLjU0MjI2NzEgNDguOTgzODY2LDY1LjI2MTk5MzkgQzUxLjExMjI4OTksNTUuODQxNTg0MiA0MS42NzcxNzk1LDQ5LjIxMjIyODQgMjUuNjIzOTg0Niw0OS4yMTIyMjg0IEMyNS40ODQ5Mjg5LDQ5LjEyNjg0NDggMjkuODI2MTI5Niw0My4yODM4MjQ4IDM4LjY0NzU4NjksMzEuNjgzMTY4MyBMNzIuODcxMjg3MSwzMi41NTQ0MjUgTDY1LjI4MDk3Myw2Ny42NzYzNDIxIEw1MS4xMTIyODk5LDc3LjM3NjE0NCBMMzUuMDA3NzE4LDgwIFoiIGlkPSJQYXRoLTIyIiBmaWxsPSIjMDAyODY4Ij48L3BhdGg+CiAgICAgICAgICAgICAgICA8cGF0aCBkPSJNMCwzNy43MzA0NDA1IEwyNy4xMTQ1MzcsMC4yNTcxMTE0MzYgQzYyLjM3MTUxMjMsLTEuOTkwNzE3MDEgODAsMTAuNTAwMzkyNyA4MCwzNy43MzA0NDA1IEM4MCw2NC45NjA0ODgyIDY0Ljc3NjUwMzgsNzkuMDUwMzQxNCAzNC4zMjk1MTEzLDgwIEM0Ny4wNTUzNDg5LDc3LjU2NzA4MDggNTMuNDE4MjY3Nyw3MC4zMTM2MTAzIDUzLjQxODI2NzcsNTguMjM5NTg4NSBDNTMuNDE4MjY3Nyw0MC4xMjg1NTU3IDM2LjMwMzk1NDQsMzcuNzMwNDQwNSAyNS4yMjc0MTcsMzcuNzMwNDQwNSBDMTcuODQzMDU4NiwzNy43MzA0NDA1IDkuNDMzOTE5NjYsMzcuNzMwNDQwNSAwLDM3LjczMDQ0MDUgWiIgaWQ9IlBhdGgtMTkiIGZpbGw9IiMzNzkzRUYiPjwvcGF0aD4KICAgICAgICAgICAgPC9nPgogICAgICAgIDwvZz4KICAgIDwvZz4KPC9zdmc+' > </img>\nCreated in <span style='font-weight:600;margin-left:4px;'>Deepnote</span></a>",
      "metadata": {
        "created_in_deepnote_cell": true,
        "deepnote_cell_type": "markdown"
      }
    }
  ],
  "nbformat": 4,
  "nbformat_minor": 0,
  "metadata": {
    "deepnote": {},
    "orig_nbformat": 2,
    "deepnote_notebook_id": "35b7c9834b0b4db9a62766c4688cbb98",
    "deepnote_execution_queue": []
  }
}
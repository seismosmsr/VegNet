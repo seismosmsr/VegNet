{
  "cells": [
    {
      "cell_type": "code",
      "source": "# install.packages('rgdal')",
      "metadata": {
        "tags": [],
        "cell_id": "93ab5b15f040469eba4d10345ee45f67",
        "source_hash": "2c35ef33",
        "output_cleared": true,
        "execution_start": 1673915225766,
        "execution_millis": 16622,
        "deepnote_to_be_reexecuted": false,
        "deepnote_cell_type": "code"
      },
      "outputs": [],
      "execution_count": 17
    },
    {
      "cell_type": "code",
      "source": "library(data.table)\nlibrary(sf)\n# remove.packages( 'terra')\n# install.packages('rgdal')\nlibrary(magrittr)\nlibrary(ggplot2)\nlibrary(units)\nlibrary(stringr)\nlibrary(moments)\nlibrary(fasterize)\nlibrary(raster)\nlibrary(exactextractr)\nlibrary(EnvStats)\nlibrary(distributionsrd)\nlibrary(nngeo)\nlibrary(parallel)\nlibrary(spex)",
      "metadata": {
        "tags": [],
        "cell_id": "1f0fc7b9abba45579a952f188ffa7179",
        "source_hash": "add610c0",
        "output_cleared": true,
        "execution_start": 1673914682562,
        "execution_millis": 29,
        "deepnote_to_be_reexecuted": false,
        "deepnote_cell_type": "code"
      },
      "outputs": [],
      "execution_count": 23
    },
    {
      "cell_type": "code",
      "source": "conn <- RPostgreSQL::dbConnect(\"PostgreSQL\",\n                            host = 'mild-williams-pear.db.elephantsql.com',\n                            dbname = \"jifesypi\",\n                            user = \"jifesypi\",\n                            password =\"Qxds23zjkpIIU343-GGHNlxqFdD3Pdlr\")",
      "metadata": {
        "tags": [],
        "cell_id": "7c38ba876b734a949fc6b81fb5a1b691",
        "source_hash": "bb092222",
        "output_cleared": true,
        "execution_start": 1673897653715,
        "execution_millis": 50,
        "deepnote_to_be_reexecuted": false,
        "deepnote_cell_type": "code"
      },
      "outputs": [],
      "execution_count": 29
    },
    {
      "cell_type": "code",
      "source": "RPostgreSQL::dbDisconnect(conn)",
      "metadata": {
        "tags": [],
        "cell_id": "69161afa319c48d9a3b1379768ffcf79",
        "source_hash": "725e9c4",
        "output_cleared": true,
        "execution_start": 1673897634263,
        "execution_millis": 2,
        "deepnote_to_be_reexecuted": false,
        "deepnote_cell_type": "code"
      },
      "outputs": [],
      "execution_count": 28
    },
    {
      "cell_type": "code",
      "source": "parcelnumber <- '073-260-056'",
      "metadata": {
        "tags": [],
        "cell_id": "bb097c5ec7af494285c8c7ccf62afffe",
        "source_hash": "7d1c83a",
        "output_cleared": true,
        "execution_start": 1673927824040,
        "execution_millis": 43,
        "deepnote_to_be_reexecuted": false,
        "deepnote_cell_type": "code"
      },
      "outputs": [],
      "execution_count": 5
    },
    {
      "cell_type": "code",
      "source": "parcel_dt <- st_read('/work/sonoma.gpkg', query = \"SELECT * FROM sonoma WHERE parcelnumb = '073-260-056'\") %>% data.table",
      "metadata": {
        "tags": [],
        "cell_id": "24fc850943044845af4b600408d5ca6b",
        "source_hash": "3b7278e5",
        "output_cleared": true,
        "execution_start": 1674238576863,
        "execution_millis": 152,
        "deepnote_to_be_reexecuted": false,
        "deepnote_cell_type": "code"
      },
      "outputs": [],
      "execution_count": null
    },
    {
      "cell_type": "code",
      "source": "b_dist <- 500",
      "metadata": {
        "tags": [],
        "cell_id": "43590974560441cf951cc08e961e544b",
        "output_cleared": true,
        "deepnote_cell_type": "code"
      },
      "outputs": [],
      "execution_count": null
    },
    {
      "cell_type": "code",
      "source": "conn <- RPostgreSQL::dbConnect(\"PostgreSQL\",\n                            host = 'mild-williams-pear.db.elephantsql.com',\n                            dbname = \"jifesypi\",\n                            user = \"jifesypi\",\n                            password =\"Qxds23zjkpIIU343-GGHNlxqFdD3Pdlr\")\ndist_list <- b_dist\nb_dist <- max(b_dist)\n\nquery_wkt <- st_as_text(parcel_dt$geom , EWKT = TRUE)\nquery_sql <- paste0(\"SELECT * FROM public.california_structures WHERE ST_Intersects(geom,'\",query_wkt,\"')\")\nparcel_structures_dt <- st_read(conn,query=query_sql) %>% data.table\n\nquery_wkt <- st_as_text(parcel_dt$geom %>% st_transform(6414) %>% st_buffer(b_dist)%>% st_transform(4326), EWKT = TRUE)\nquery_sql <- paste0(\"SELECT * FROM public.california_parcels WHERE ST_Intersects(geom,'\",query_wkt,\"')\")\nneighborhood_dt <- st_read(conn,query=query_sql) %>% data.table\n\nquery_wkt <- st_as_text(neighborhood_dt$geom %>% st_as_sf %>% st_bbox %>% st_as_sfc  %>%  st_transform(6414) %>% st_transform(4326), EWKT = TRUE)\nquery_sql <- paste0(\"SELECT * FROM public.california_structures WHERE ST_Intersects(geom,'\",query_wkt,\"')\")\nneighborhood_structures_dt <- st_read(conn,query=query_sql) %>% data.table\nRPostgreSQL::dbDisconnect(conn)",
      "metadata": {
        "tags": [],
        "cell_id": "5e78a271c55d4d46ad8f347265612657",
        "source_hash": "a2db67a5",
        "output_cleared": true,
        "execution_start": 1673915166108,
        "execution_millis": 608,
        "deepnote_to_be_reexecuted": false,
        "deepnote_cell_type": "code"
      },
      "outputs": [],
      "execution_count": null
    },
    {
      "cell_type": "code",
      "source": "assembly_dt <-  fread('/work/asm_pareto_dt.csv')\nvegetation_dt <-  fread('/work/veg_pareto_dt.csv')\nstructural_dt <-  fread('/work/bld_pareto_dt.csv')",
      "metadata": {
        "tags": [],
        "cell_id": "a2fde8017bb64649a721bd5397e1b166",
        "source_hash": "35ae8a99",
        "output_cleared": true,
        "execution_start": 1673912607459,
        "execution_millis": 1,
        "deepnote_to_be_reexecuted": false,
        "deepnote_cell_type": "code"
      },
      "outputs": [],
      "execution_count": 8
    },
    {
      "cell_type": "code",
      "source": "biomass_rast <- raster('/work/Stack_Sonoma_2021_biomass.tif')\nvegetation_rast <- raster('/work/Stack_Sonoma_2021_classification.tif')",
      "metadata": {
        "tags": [],
        "cell_id": "3d9aa4aed9134bf989ef0538a082c2d5",
        "source_hash": "b2e8e3a",
        "output_cleared": true,
        "execution_start": 1673915858093,
        "execution_millis": 140,
        "deepnote_to_be_reexecuted": false,
        "deepnote_cell_type": "code"
      },
      "outputs": [],
      "execution_count": null
    },
    {
      "cell_type": "code",
      "source": "samp_biomass_rast <-    crop(biomass_rast,parcel_dt$geom %>% st_transform(6414) %>% st_buffer(30) %>% st_transform(4326)   %>% as('Spatial'))\nvalues(samp_biomass_rast)[values(samp_biomass_rast)>1000] <- NA\nsamp_vegetation_rast   <-  crop(vegetation_rast,parcel_dt$geom %>% st_transform(6414) %>% st_buffer(30) %>% st_transform(4326)   %>% as('Spatial')) ",
      "metadata": {
        "tags": [],
        "cell_id": "9a242bd2eaeb4938bbb194c4122e8e39",
        "source_hash": "415a8e49",
        "output_cleared": true,
        "execution_start": 1673915166896,
        "execution_millis": 760,
        "deepnote_to_be_reexecuted": false,
        "deepnote_cell_type": "code"
      },
      "outputs": [],
      "execution_count": null
    },
    {
      "cell_type": "code",
      "source": "writeRaster(samp_biomass_rast,'/work/processing_folder/parcel_biomass.tif', overwrite=TRUE)\nwriteRaster(samp_vegetation_rast,'/work/processing_folder/parcel_class.tif', overwrite=TRUE)",
      "metadata": {
        "tags": [],
        "cell_id": "8792316491f64c00a1e2618e55c63937",
        "source_hash": "5272bad2",
        "output_cleared": true,
        "execution_start": 1673914243727,
        "execution_millis": 553,
        "deepnote_to_be_reexecuted": false,
        "deepnote_cell_type": "code"
      },
      "outputs": [],
      "execution_count": 13
    },
    {
      "cell_type": "code",
      "source": "# system(\"gdal_polygonize.py '/work/processing_folder/parcel_class.tif' '/work/processing_folder/parcel_class.shp'\")",
      "metadata": {
        "tags": [],
        "cell_id": "f40d73a6bfbc42ae9186cb2e048a7514",
        "source_hash": "92a17f1",
        "output_cleared": true,
        "execution_start": 1673915168258,
        "execution_millis": 36,
        "deepnote_to_be_reexecuted": false,
        "deepnote_cell_type": "code"
      },
      "outputs": [],
      "execution_count": null
    },
    {
      "cell_type": "code",
      "source": "samp_vegetation_sf <- samp_vegetation_rast %>% spex::polygonize() %>% st_as_sf %>% st_intersection(.,parcel_dt$geom) %>% st_as_sf %>% data.table\nsamp_vegetation_sf$class <- NA\nsamp_vegetation_sf$class[samp_vegetation_sf$lc %in% c(0,4,2,7)] <- 'Grass'\nsamp_vegetation_sf$class[samp_vegetation_sf$lc %in% c(5,11,13,14)] <- 'Shrub'\nsamp_vegetation_sf$class[samp_vegetation_sf$lc %in% c(1,3,6,8,9,10,12)] <- 'Tree'\nsamp_vegetation_sf$class[samp_vegetation_sf$lc %in% c(15)] <- 'Water'",
      "metadata": {
        "tags": [],
        "cell_id": "e2643ed00bfd49059c65b33b2f6475b4",
        "source_hash": "b6e44c28",
        "output_cleared": true,
        "execution_start": 1673915357595,
        "execution_millis": 83324,
        "deepnote_to_be_reexecuted": false,
        "deepnote_cell_type": "code"
      },
      "outputs": [],
      "execution_count": 21
    },
    {
      "cell_type": "code",
      "source": "samp_vegetation_sf$class <- NA\nsamp_vegetation_sf$class[samp_vegetation_sf$Stack_Sonoma_2021_classification %in% c(0,4,2,7)] <- 'Grass'\nsamp_vegetation_sf$class[samp_vegetation_sf$Stack_Sonoma_2021_classification %in% c(5,11,13,14)] <- 'Shrub'\nsamp_vegetation_sf$class[samp_vegetation_sf$Stack_Sonoma_2021_classification %in% c(1,3,6,8,9,10,12)] <- 'Tree'\nsamp_vegetation_sf$class[samp_vegetation_sf$Stack_Sonoma_2021_classification %in% c(15)] <- 'Water'",
      "metadata": {
        "tags": [],
        "cell_id": "054ab1c6d75b4a1796838e7d92c0db7b",
        "source_hash": "a590efc9",
        "output_cleared": true,
        "execution_start": 1673915722366,
        "execution_millis": 1726,
        "deepnote_to_be_reexecuted": false,
        "deepnote_cell_type": "code"
      },
      "outputs": [],
      "execution_count": 27
    },
    {
      "cell_type": "code",
      "source": "samp_vegetation_sf$area <- st_area(samp_vegetation_sf$geometry)\nsamp_vegetation_sf$MGHa <- exact_extract(samp_biomass_rast,samp_vegetation_sf$geometry,weights='area',fun='weighted_mean')\nsamp_vegetation_sf$MG <- samp_vegetation_sf$MGHa*(samp_vegetation_sf$area %>% as.numeric)*0.0001",
      "metadata": {
        "tags": [],
        "cell_id": "d16ed04516634b559e4d40ec4cdeca02",
        "source_hash": "2da758b6",
        "output_cleared": true,
        "execution_start": 1673915875878,
        "execution_millis": 2134,
        "deepnote_to_be_reexecuted": false,
        "deepnote_cell_type": "code"
      },
      "outputs": [],
      "execution_count": 32
    },
    {
      "cell_type": "code",
      "source": "samp_structure_sf<- samp_vegetation_sf[1,]\nsamp_structure_sf$Stack_Sonoma_2021_classification <- NA\nsamp_structure_sf$MGHa <- NA\nsamp_structure_sf$MG <- NA\nsamp_structure_sf$class <- 'Structure'\nsamp_structure_sf <- samp_structure_sf[rep(1,length(parcel_structures_dt$geom)),]\nsamp_structure_sf$geometry <- parcel_structures_dt$geom\nsamp_structure_sf <- samp_structure_sf %>% st_as_sf %>% st_cast('POLYGON') %>% data.table\nsamp_structure_sf$area <- st_area(samp_structure_sf$geometry)",
      "metadata": {
        "tags": [],
        "cell_id": "685bd8430d3e4bc6a7088610f4df8c51",
        "source_hash": "7249bd0b",
        "output_cleared": true,
        "execution_start": 1673916421041,
        "execution_millis": 53,
        "deepnote_to_be_reexecuted": false,
        "deepnote_cell_type": "code"
      },
      "outputs": [],
      "execution_count": 48
    },
    {
      "cell_type": "code",
      "source": "samp_structure_sf <- samp_structure_sf[,names(samp_vegetation_sf),with=F]",
      "metadata": {
        "tags": [],
        "cell_id": "b76e647509d745009623b3080003c88d",
        "source_hash": "8345abe0",
        "output_cleared": true,
        "execution_start": 1673916505951,
        "execution_millis": 6,
        "deepnote_to_be_reexecuted": false,
        "deepnote_cell_type": "code"
      },
      "outputs": [],
      "execution_count": 59
    },
    {
      "cell_type": "code",
      "source": "samp_vegetation_sf$geometry <- samp_vegetation_sf$geometry %>% st_collection_extract(\"POLYGON\")",
      "metadata": {
        "tags": [],
        "cell_id": "e4facc33b1fe49a6a0683464c3cba3c3",
        "source_hash": "4080acb1",
        "output_cleared": true,
        "execution_start": 1673917816821,
        "deepnote_to_be_reexecuted": false,
        "deepnote_cell_type": "code"
      },
      "outputs": [],
      "execution_count": null
    },
    {
      "cell_type": "code",
      "source": "samp_structure_sf$geometry <- samp_structure_sf$geometry %>% st_collection_extract(\"POLYGON\")",
      "metadata": {
        "tags": [],
        "cell_id": "cee503734bf2433c9fc7d80c03fae093",
        "source_hash": "812f9d5c",
        "output_cleared": true,
        "execution_start": 1673917973403,
        "execution_millis": 84,
        "deepnote_to_be_reexecuted": false,
        "deepnote_cell_type": "code"
      },
      "outputs": [],
      "execution_count": 71
    },
    {
      "cell_type": "code",
      "source": "samp_structure_sf %>% head\n\nsamp_vegetation_sf <- samp_vegetation_sf  %>% st_as_sf %>% st_cast('POLYGON') %>% data.table",
      "metadata": {
        "tags": [],
        "cell_id": "0462ef0107e14367bdab488b8baa3a3c",
        "source_hash": "5d7dcc6a",
        "output_cleared": true,
        "execution_start": 1673918061834,
        "execution_millis": 57,
        "deepnote_to_be_reexecuted": false,
        "deepnote_cell_type": "code"
      },
      "outputs": [],
      "execution_count": 72
    },
    {
      "cell_type": "code",
      "source": "samp_ember_sf <- rbind(samp_vegetation_sf,samp_structure_sf)\nsamp_ember_sf$class %>% table",
      "metadata": {
        "tags": [],
        "cell_id": "85efbefb647f4fea802b39d217613b40",
        "source_hash": "27962bf5",
        "output_cleared": true,
        "execution_start": 1673916231165,
        "execution_millis": 9,
        "deepnote_to_be_reexecuted": false,
        "deepnote_cell_type": "code"
      },
      "outputs": [],
      "execution_count": 43
    },
    {
      "cell_type": "code",
      "source": "samp_ember_sf[,area:=st_area(geometry)]",
      "metadata": {
        "tags": [],
        "cell_id": "1c1562bed6e04db19844c3b4a167256f",
        "source_hash": "19bf8d1d",
        "output_cleared": true,
        "execution_start": 1673923823459,
        "execution_millis": 544,
        "deepnote_to_be_reexecuted": false,
        "deepnote_cell_type": "code"
      },
      "outputs": [],
      "execution_count": 76
    },
    {
      "cell_type": "code",
      "source": "k<-10\ndim <- 10",
      "metadata": {
        "tags": [],
        "cell_id": "4f0964a897a842d7b26a8975f667add7",
        "source_hash": "d5cc3631",
        "output_cleared": true,
        "execution_start": 1673924335206,
        "execution_millis": 6,
        "deepnote_to_be_reexecuted": false,
        "deepnote_cell_type": "code"
      },
      "outputs": [],
      "execution_count": 95
    },
    {
      "cell_type": "code",
      "source": "samp_ember_sf$area %>% which.max",
      "metadata": {
        "tags": [],
        "cell_id": "0cd9327e0ab6437390924190483c0095",
        "source_hash": "762fbf0",
        "output_cleared": true,
        "execution_start": 1673924394375,
        "execution_millis": 10,
        "deepnote_to_be_reexecuted": false,
        "deepnote_cell_type": "code"
      },
      "outputs": [],
      "execution_count": 101
    },
    {
      "cell_type": "code",
      "source": "samp_ember_sf$geometry %>% st_crs",
      "metadata": {
        "tags": [],
        "cell_id": "fa048830e3704310ae1c1f2080a7bf9e",
        "source_hash": "6f8d56c8",
        "output_cleared": true,
        "execution_start": 1674239114287,
        "execution_millis": 9,
        "deepnote_to_be_reexecuted": false,
        "deepnote_cell_type": "code"
      },
      "outputs": [],
      "execution_count": 42
    },
    {
      "cell_type": "code",
      "source": "samp_ember_sf <- samp_ember_sf %>% st_as_sf %>% st_collection_extract('POLYGON')",
      "metadata": {
        "tags": [],
        "cell_id": "43cba77b55ed46bcaa20ce3ff226c81c",
        "source_hash": "f76da74c",
        "output_cleared": true,
        "execution_start": 1674240094601,
        "execution_millis": 11,
        "deepnote_to_be_reexecuted": false,
        "deepnote_cell_type": "code"
      },
      "outputs": [],
      "execution_count": 80
    },
    {
      "cell_type": "code",
      "source": "class_out <- 'Tree'\nsamp_ember_dt[samp_ember_dt$class == class_out]\n# [51,] \n# %>% st_as_sf %>% st_area()",
      "metadata": {
        "tags": [],
        "cell_id": "35088cb2f409414e809910abb306fc7f",
        "source_hash": "4ea3dbaf",
        "output_cleared": true,
        "execution_start": 1674240594377,
        "execution_millis": 179,
        "deepnote_to_be_reexecuted": false,
        "deepnote_cell_type": "code"
      },
      "outputs": [],
      "execution_count": 102
    },
    {
      "cell_type": "code",
      "source": "class_out <-'Tree'\nsamp_ember_dt <- samp_ember_sf %>% data.table\n51 %>% lapply(function(x){ember_rast_list(x,samp_ember_dt[class == class_out],class_out = class_out)})",
      "metadata": {
        "tags": [],
        "cell_id": "c2c5de5cf3e146a786960946434a037c",
        "source_hash": "289944db",
        "output_cleared": true,
        "execution_start": 1674242694630,
        "execution_millis": 165,
        "deepnote_to_be_reexecuted": false,
        "deepnote_cell_type": "code"
      },
      "outputs": [],
      "execution_count": null
    },
    {
      "cell_type": "code",
      "source": "samp_ember_sf[samp_ember_sf[['class']] == class_out,] %>% nrow",
      "metadata": {
        "tags": [],
        "cell_id": "e0347147f82b44bdb6fc13348b9b9e5b",
        "source_hash": "9ea2428f",
        "output_cleared": true,
        "execution_start": 1674242882945,
        "execution_millis": 112,
        "deepnote_to_be_reexecuted": false,
        "deepnote_cell_type": "code"
      },
      "outputs": [],
      "execution_count": 114
    },
    {
      "cell_type": "code",
      "source": "class_out <- 'Tree'\nfold <- '/work/processing_folder/r_test/' %>% paste0(.,class_out)\n# '/work/processing_folder/r_test/' %>% paste0(.,class_out)\nfold %>% list.files( include.dirs = F, full.names = T, recursive = T) %>% file.remove()\noutlist_<- 1:nrow(samp_ember_sf[samp_ember_sf[['class']] == class_out,]) %>% lapply(function(x){ember_rast_list(x,samp_ember_sf[samp_ember_sf[['class']] == class_out,],class_out = class_out)})",
      "metadata": {
        "tags": [],
        "cell_id": "9a63edba467c4f8d972787a689bae4cb",
        "source_hash": "358f2bf9",
        "output_cleared": true,
        "execution_start": 1674242781230,
        "execution_millis": 116,
        "deepnote_to_be_reexecuted": false,
        "deepnote_cell_type": "code"
      },
      "outputs": [],
      "execution_count": null
    },
    {
      "cell_type": "code",
      "source": "outlist_ <- fold %>% list.files( include.dirs = F, full.names = T, recursive = T) %>% lapply(raster)\noutlist_$fun <- sum\noutlist_rast <- outlist_ %>% do.call(mosaic,.)\nwriteRaster(outlist_rast,'test.tif',overwrite=T)",
      "metadata": {
        "tags": [],
        "cell_id": "e40af19434694459bc97e387e24c7532",
        "source_hash": "f0cd9194",
        "output_cleared": true,
        "execution_start": 1673934852498,
        "execution_millis": 569,
        "deepnote_to_be_reexecuted": false,
        "deepnote_cell_type": "code"
      },
      "outputs": [],
      "execution_count": 49
    },
    {
      "cell_type": "code",
      "source": "row = 1\nclass_out <- 'Water'",
      "metadata": {
        "tags": [],
        "cell_id": "d03822e1669d452caa2646748b7b80ef",
        "source_hash": "37d9bea7",
        "output_cleared": true,
        "execution_start": 1674238909924,
        "execution_millis": 13,
        "deepnote_to_be_reexecuted": false,
        "deepnote_cell_type": "code"
      },
      "outputs": [],
      "execution_count": null
    },
    {
      "cell_type": "code",
      "source": "# samp_ember_sf %>% names",
      "metadata": {
        "tags": [],
        "cell_id": "6d11f569b45148fbb8792db0d22728c9",
        "source_hash": "4833690e",
        "output_cleared": true,
        "execution_start": 1674240484400,
        "execution_millis": 5,
        "deepnote_to_be_reexecuted": false,
        "deepnote_cell_type": "code"
      },
      "outputs": [],
      "execution_count": 94
    },
    {
      "cell_type": "code",
      "source": "ember_rast_list <- function(row, samp_ember_sf = samp_ember_sf %>% data.table,class_out = class_out){\n    # tryCatch({\n    print(row)\n    # print(samp_ember_sf[row  ,])\n\n    x <-   samp_ember_sf[row  ,] %>% st_as_sf %>% st_transform(\"EPSG:6414\")\n    x$area <- st_area(x$geometry)\n    embers<-100\n    param_dt <- assembly_dt[ `Wall Type` == 'A'  &`Wind Speed` %in% 'High'&Material=='OSB_FC'&`Roof (Sheathing)`=='NCS',]\n    coef <- 1 \n    if(x$class %in% c('Structure')){\n    param_dt <- assembly_dt[ `Wall Type` == 'A'  &`Wind Speed` %in% 'High'&Material=='OSB_FC'&`Roof (Sheathing)`=='NCS',]\n    embers <- (param_dt$n*st_area(x %>%st_as_sf) %>% as.numeric)*6\n    coef <- 1 \n    }\n    if(x$class %in% c('Tree','Shrub','Grass')){\n    param_dt <- vegetation_dt[`Vegetation Type` == x$class &`Wind Speed` %in% 'High']\n    embers <- (x$MG*1000/5)*param_dt$n\n    coef <- 1\n    }\n    if(x$class %in% c('Water')){\n    # param_dt <- vegetation_dt[`Vegetation Type` == x$class &`Wind Speed` %in% 'High']\n    embers <- 100\n    coef <- 1\n    }\n    if(x$class %in% c('Shrub','Grass')){embers <- ((x$area)*param_dt$n/2) %>% as.numeric}\n    if((embers%>% as.numeric) >10000000){coef <- embers/10000000 %>% as.numeric;embers <- 10000000}\n    embers <- max(embers,1,na.rm=T)\n    pareto_dt <- data.table(p=rpareto(embers, k = param_dt$k_dist_m, xmin = param_dt$xmin_dist_m))\n    pareto_dt[,x:=ceiling(p/k)*k]\n    pareto_dt<- pareto_dt[order(x),list(l = length(p)),by=x]\n    pareto_dt[,l:=l*coef]\n    pareto_dt[,d:=l/sum(l)]\n    pareto_dt[,c:=cumsum(d)]\n    pareto_dt[,area:=((x^2)*pi -((x-k)^2)*pi )]\n    pareto_dt[,la:=l/area]\n    pareto_dt <- pareto_dt[la>40& !is.infinite(la),]\n\n    buffered_sf <- c(0,pareto_dt$x)  %>% lapply(function(y){st_buffer(x$geometry,y) %>% st_as_sf}) %>% do.call(rbind,.)\n\n    buffered_sf$d <- c(1,pareto_dt$d)\n    buffered_sf$l <-  c(pareto_dt$l[1],pareto_dt$l)\n    buffered_sf$la <-  c(pareto_dt$la[1],pareto_dt$la)\n    buffered_sf$area <- st_area(buffered_sf)\n    buffered_sf$area_adj <- c(0,buffered_sf$area[1:(nrow(buffered_sf)-1)])[1:nrow(buffered_sf)]\n    buffered_sf$area_ring <- (buffered_sf$area %>% as.numeric) - (buffered_sf$area_adj %>% as.numeric)\n\n    buffered_sf$la_2 <- (buffered_sf$d*embers)/buffered_sf$area_ring\n\n\n    buffered_sf <- buffered_sf[order(buffered_sf$d)  ,]\n    buffered_rast <-  parcel_dt %>% st_as_sf %>%st_transform(\"EPSG:6414\") %>% st_buffer(500)   %>% raster(.,resolution = c(dim,dim)) %>% projectRaster(.,crs=\"EPSG:4326\")\n    out_rast <- fasterize(buffered_sf %>% st_transform(\"EPSG:4326\"),buffered_rast,'la_2',fun = 'sum',background = 0)\n\n    writeRaster(out_rast,'/work/processing_folder/r_test/' %>% paste0(.,class_out,'/',row,'.tif'),overwrite=T)\n\n    }",
      "metadata": {
        "tags": [],
        "cell_id": "52c66d4c7a2c47748c4632809f8f31d8",
        "source_hash": "e6fa5612",
        "output_cleared": true,
        "execution_start": 1674242827425,
        "execution_millis": 9,
        "deepnote_to_be_reexecuted": false,
        "deepnote_cell_type": "code"
      },
      "outputs": [],
      "execution_count": 111
    },
    {
      "cell_type": "code",
      "source": "buffered_sf %>% st_write('test4.gpkg')",
      "metadata": {
        "tags": [],
        "cell_id": "fc794b1fb5704fcbb51f5cbd20f4a442",
        "source_hash": "cc0c18b3",
        "output_cleared": true,
        "execution_start": 1673927478017,
        "execution_millis": 140,
        "deepnote_to_be_reexecuted": true,
        "deepnote_cell_type": "code"
      },
      "outputs": [],
      "execution_count": null
    },
    {
      "cell_type": "markdown",
      "source": "<a style='text-decoration:none;line-height:16px;display:flex;color:#5B5B62;padding:10px;justify-content:end;' href='https://deepnote.com?utm_source=created-in-deepnote-cell&projectId=5eceab32-5823-49b2-9c95-72828e51fba3' target=\"_blank\">\n<img alt='Created in deepnote.com' style='display:inline;max-height:16px;margin:0px;margin-right:7.5px;' src='data:image/svg+xml;base64,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' > </img>\nCreated in <span style='font-weight:600;margin-left:4px;'>Deepnote</span></a>",
      "metadata": {
        "created_in_deepnote_cell": true,
        "deepnote_cell_type": "markdown"
      }
    }
  ],
  "nbformat": 4,
  "nbformat_minor": 0,
  "metadata": {
    "deepnote": {},
    "orig_nbformat": 2,
    "deepnote_notebook_id": "a36f2d89901f4df584a2ea5754ce6c6d",
    "deepnote_execution_queue": []
  }
}